{
 "cells": [
  {
   "cell_type": "markdown",
   "metadata": {
    "nbpresent": {
     "id": "2c275df6-e903-4c2d-b94c-599e6a9dfad0"
    }
   },
   "source": [
    "# Importing necessary libraries & parameter setup"
   ]
  },
  {
   "cell_type": "code",
   "execution_count": 18,
   "metadata": {
    "collapsed": true,
    "nbpresent": {
     "id": "304791bc-7b6f-423b-a8bc-b311b07bce97"
    }
   },
   "outputs": [],
   "source": [
    "import pandas as pd\n",
    "import matplotlib.pyplot as plt\n",
    "import numpy as np\n",
    "import seaborn as sn\n",
    "%matplotlib inline"
   ]
  },
  {
   "cell_type": "markdown",
   "metadata": {
    "nbpresent": {
     "id": "b63b7f49-da6b-4a06-9f9b-a15312d64186"
    }
   },
   "source": [
    "# Reading files"
   ]
  },
  {
   "cell_type": "code",
   "execution_count": 19,
   "metadata": {
    "collapsed": true,
    "nbpresent": {
     "id": "26bd6325-429b-4554-ad03-82cbeb6658f4"
    }
   },
   "outputs": [],
   "source": [
    "test1=pd.read_csv(\"/home/java/Desktop/HORIZON2020/DATASETS/sc/02_01_District_wise_crimes_committed_against_SC_2001_2012.csv\")\n",
    "test2=pd.read_csv(\"/home/java/Desktop/HORIZON2020/DATASETS/sc/02_01_District_wise_crimes_committed_against_SC_2013.csv\")\n",
    "\n",
    "\n",
    "#test1=pd.read_csv(\"C:/Users/abhishek/Desktop/PROJECT/HORIZON2020_step towards crime free india/DATA SETS/sc/02_01_District_wise_crimes_committed_against_SC_2001_2012.csv\")\n",
    "#test2=pd.read_csv(\"C:/Users/abhishek/Desktop/PROJECT/HORIZON2020_step towards crime free india/DATA SETS/sc/02_01_District_wise_crimes_committed_against_SC_2013.csv\")\n",
    "\n",
    "\n",
    "#test3=pd.read_csv(\"C:/Users/abhishek/Desktop/PROJECT/HORIZON2020_step towards crime free india/DATA SETS/sc/02_01_District_wise_crimes_committed_against_SC_2014.csv\")"
   ]
  },
  {
   "cell_type": "markdown",
   "metadata": {
    "nbpresent": {
     "id": "94d7df0a-e5e8-46e8-a169-a9320dbf384e"
    }
   },
   "source": [
    "# Merging and reorganising data"
   ]
  },
  {
   "cell_type": "code",
   "execution_count": 20,
   "metadata": {
    "collapsed": true,
    "nbpresent": {
     "id": "178b2459-7fce-4f70-b4ad-13c29e1c6d58"
    }
   },
   "outputs": [],
   "source": [
    "merged_data=pd.concat([test1,test2])"
   ]
  },
  {
   "cell_type": "code",
   "execution_count": 21,
   "metadata": {
    "collapsed": true,
    "nbpresent": {
     "id": "b7266ef3-db43-4298-a153-537f268eb4ae"
    }
   },
   "outputs": [],
   "source": [
    "final=merged_data[merged_data.DISTRICT != 'TOTAL']\n",
    "reorganised=final[['STATE/UT','DISTRICT','Year','Murder','Rape','Kidnapping and Abduction','Dacoity','Robbery','Arson','Hurt','Prevention of atrocities (POA) Act','Protection of Civil Rights (PCR) Act','Other Crimes Against SCs']]"
   ]
  },
  {
   "cell_type": "markdown",
   "metadata": {
    "nbpresent": {
     "id": "330dfcec-78a6-482e-820b-706fbf3063ed"
    }
   },
   "source": [
    "# Data cleaning"
   ]
  },
  {
   "cell_type": "code",
   "execution_count": 22,
   "metadata": {
    "collapsed": true,
    "nbpresent": {
     "id": "faddbc43-2bf6-4be1-a36c-f432990ae339"
    },
    "scrolled": true
   },
   "outputs": [],
   "source": [
    "pv=reorganised.rename(columns={'STATE/UT' : \"STATE_UT\"})"
   ]
  },
  {
   "cell_type": "code",
   "execution_count": 23,
   "metadata": {
    "collapsed": true,
    "nbpresent": {
     "id": "f6612f4d-e461-4733-b68b-9cdfaf4a7333"
    }
   },
   "outputs": [],
   "source": [
    "pv['STATE_UT'] = pv.STATE_UT.apply(str.upper)\n",
    "pv['STATE_UT'] = pv.STATE_UT.apply(lambda x:x.replace(\"DELHI UT\",\"DELHI\"))\n",
    "pv['STATE_UT'] = pv.STATE_UT.apply(lambda x:x.replace(\"D & N HAVELI\",\"D&N HAVELI\"))\n",
    "pv['STATE_UT'] = pv.STATE_UT.apply(lambda x:x.replace(\"A & N ISLANDS\",\"A&N ISLANDS\"))"
   ]
  },
  {
   "cell_type": "markdown",
   "metadata": {
    "nbpresent": {
     "id": "910ad7dd-4ccc-430c-a6a7-5deb87551be8"
    }
   },
   "source": [
    "# Cross check cleaning"
   ]
  },
  {
   "cell_type": "code",
   "execution_count": 24,
   "metadata": {
    "collapsed": true,
    "nbpresent": {
     "id": "f7c911ea-a915-4683-888e-f6d08de96c37"
    }
   },
   "outputs": [],
   "source": [
    "states=pv.STATE_UT.unique()"
   ]
  },
  {
   "cell_type": "markdown",
   "metadata": {
    "nbpresent": {
     "id": "95f135f5-2385-481a-8b5a-82900b5b9dc1"
    }
   },
   "source": [
    "# Data aggregration"
   ]
  },
  {
   "cell_type": "code",
   "execution_count": 25,
   "metadata": {
    "nbpresent": {
     "id": "0e49c7bb-9d96-4199-8c1b-7607fe8a243b"
    }
   },
   "outputs": [
    {
     "data": {
      "text/html": [
       "<div>\n",
       "<style>\n",
       "    .dataframe thead tr:only-child th {\n",
       "        text-align: right;\n",
       "    }\n",
       "\n",
       "    .dataframe thead th {\n",
       "        text-align: left;\n",
       "    }\n",
       "\n",
       "    .dataframe tbody tr th {\n",
       "        vertical-align: top;\n",
       "    }\n",
       "</style>\n",
       "<table border=\"1\" class=\"dataframe\">\n",
       "  <thead>\n",
       "    <tr style=\"text-align: right;\">\n",
       "      <th></th>\n",
       "      <th>Year</th>\n",
       "      <th>Murder</th>\n",
       "      <th>Rape</th>\n",
       "      <th>Kidnapping</th>\n",
       "      <th>Dacoity</th>\n",
       "      <th>Robbery</th>\n",
       "      <th>Arson</th>\n",
       "      <th>Hurt</th>\n",
       "      <th>POA</th>\n",
       "      <th>PCR</th>\n",
       "      <th>Other</th>\n",
       "    </tr>\n",
       "  </thead>\n",
       "  <tbody>\n",
       "    <tr>\n",
       "      <th>0</th>\n",
       "      <td>2001</td>\n",
       "      <td>763</td>\n",
       "      <td>1316</td>\n",
       "      <td>400</td>\n",
       "      <td>41</td>\n",
       "      <td>133</td>\n",
       "      <td>354</td>\n",
       "      <td>4547</td>\n",
       "      <td>13114</td>\n",
       "      <td>633</td>\n",
       "      <td>12201</td>\n",
       "    </tr>\n",
       "    <tr>\n",
       "      <th>1</th>\n",
       "      <td>2002</td>\n",
       "      <td>739</td>\n",
       "      <td>1332</td>\n",
       "      <td>318</td>\n",
       "      <td>29</td>\n",
       "      <td>105</td>\n",
       "      <td>322</td>\n",
       "      <td>4491</td>\n",
       "      <td>10770</td>\n",
       "      <td>1018</td>\n",
       "      <td>14383</td>\n",
       "    </tr>\n",
       "    <tr>\n",
       "      <th>2</th>\n",
       "      <td>2003</td>\n",
       "      <td>581</td>\n",
       "      <td>1089</td>\n",
       "      <td>232</td>\n",
       "      <td>24</td>\n",
       "      <td>70</td>\n",
       "      <td>204</td>\n",
       "      <td>3969</td>\n",
       "      <td>8048</td>\n",
       "      <td>634</td>\n",
       "      <td>11399</td>\n",
       "    </tr>\n",
       "    <tr>\n",
       "      <th>3</th>\n",
       "      <td>2004</td>\n",
       "      <td>654</td>\n",
       "      <td>1157</td>\n",
       "      <td>253</td>\n",
       "      <td>26</td>\n",
       "      <td>72</td>\n",
       "      <td>211</td>\n",
       "      <td>3824</td>\n",
       "      <td>8892</td>\n",
       "      <td>364</td>\n",
       "      <td>11435</td>\n",
       "    </tr>\n",
       "    <tr>\n",
       "      <th>4</th>\n",
       "      <td>2005</td>\n",
       "      <td>669</td>\n",
       "      <td>1172</td>\n",
       "      <td>258</td>\n",
       "      <td>26</td>\n",
       "      <td>80</td>\n",
       "      <td>210</td>\n",
       "      <td>3847</td>\n",
       "      <td>8497</td>\n",
       "      <td>291</td>\n",
       "      <td>11077</td>\n",
       "    </tr>\n",
       "    <tr>\n",
       "      <th>5</th>\n",
       "      <td>2006</td>\n",
       "      <td>673</td>\n",
       "      <td>1218</td>\n",
       "      <td>280</td>\n",
       "      <td>30</td>\n",
       "      <td>90</td>\n",
       "      <td>226</td>\n",
       "      <td>3762</td>\n",
       "      <td>8581</td>\n",
       "      <td>405</td>\n",
       "      <td>11811</td>\n",
       "    </tr>\n",
       "    <tr>\n",
       "      <th>6</th>\n",
       "      <td>2007</td>\n",
       "      <td>674</td>\n",
       "      <td>1349</td>\n",
       "      <td>332</td>\n",
       "      <td>23</td>\n",
       "      <td>86</td>\n",
       "      <td>238</td>\n",
       "      <td>3814</td>\n",
       "      <td>9819</td>\n",
       "      <td>206</td>\n",
       "      <td>13490</td>\n",
       "    </tr>\n",
       "    <tr>\n",
       "      <th>7</th>\n",
       "      <td>2008</td>\n",
       "      <td>622</td>\n",
       "      <td>1453</td>\n",
       "      <td>477</td>\n",
       "      <td>50</td>\n",
       "      <td>81</td>\n",
       "      <td>224</td>\n",
       "      <td>4134</td>\n",
       "      <td>11465</td>\n",
       "      <td>279</td>\n",
       "      <td>14645</td>\n",
       "    </tr>\n",
       "    <tr>\n",
       "      <th>8</th>\n",
       "      <td>2009</td>\n",
       "      <td>629</td>\n",
       "      <td>1350</td>\n",
       "      <td>511</td>\n",
       "      <td>42</td>\n",
       "      <td>67</td>\n",
       "      <td>195</td>\n",
       "      <td>4322</td>\n",
       "      <td>11037</td>\n",
       "      <td>168</td>\n",
       "      <td>15091</td>\n",
       "    </tr>\n",
       "    <tr>\n",
       "      <th>9</th>\n",
       "      <td>2010</td>\n",
       "      <td>572</td>\n",
       "      <td>1350</td>\n",
       "      <td>510</td>\n",
       "      <td>41</td>\n",
       "      <td>75</td>\n",
       "      <td>150</td>\n",
       "      <td>4344</td>\n",
       "      <td>10419</td>\n",
       "      <td>143</td>\n",
       "      <td>15039</td>\n",
       "    </tr>\n",
       "    <tr>\n",
       "      <th>10</th>\n",
       "      <td>2011</td>\n",
       "      <td>673</td>\n",
       "      <td>1557</td>\n",
       "      <td>616</td>\n",
       "      <td>36</td>\n",
       "      <td>54</td>\n",
       "      <td>169</td>\n",
       "      <td>4247</td>\n",
       "      <td>11352</td>\n",
       "      <td>67</td>\n",
       "      <td>14957</td>\n",
       "    </tr>\n",
       "    <tr>\n",
       "      <th>11</th>\n",
       "      <td>2012</td>\n",
       "      <td>651</td>\n",
       "      <td>1576</td>\n",
       "      <td>490</td>\n",
       "      <td>27</td>\n",
       "      <td>40</td>\n",
       "      <td>214</td>\n",
       "      <td>3855</td>\n",
       "      <td>12576</td>\n",
       "      <td>62</td>\n",
       "      <td>14164</td>\n",
       "    </tr>\n",
       "    <tr>\n",
       "      <th>12</th>\n",
       "      <td>2013</td>\n",
       "      <td>676</td>\n",
       "      <td>2073</td>\n",
       "      <td>628</td>\n",
       "      <td>45</td>\n",
       "      <td>62</td>\n",
       "      <td>189</td>\n",
       "      <td>4901</td>\n",
       "      <td>13975</td>\n",
       "      <td>62</td>\n",
       "      <td>16797</td>\n",
       "    </tr>\n",
       "  </tbody>\n",
       "</table>\n",
       "</div>"
      ],
      "text/plain": [
       "    Year  Murder  Rape  Kidnapping  Dacoity  Robbery  Arson  Hurt    POA  \\\n",
       "0   2001     763  1316         400       41      133    354  4547  13114   \n",
       "1   2002     739  1332         318       29      105    322  4491  10770   \n",
       "2   2003     581  1089         232       24       70    204  3969   8048   \n",
       "3   2004     654  1157         253       26       72    211  3824   8892   \n",
       "4   2005     669  1172         258       26       80    210  3847   8497   \n",
       "5   2006     673  1218         280       30       90    226  3762   8581   \n",
       "6   2007     674  1349         332       23       86    238  3814   9819   \n",
       "7   2008     622  1453         477       50       81    224  4134  11465   \n",
       "8   2009     629  1350         511       42       67    195  4322  11037   \n",
       "9   2010     572  1350         510       41       75    150  4344  10419   \n",
       "10  2011     673  1557         616       36       54    169  4247  11352   \n",
       "11  2012     651  1576         490       27       40    214  3855  12576   \n",
       "12  2013     676  2073         628       45       62    189  4901  13975   \n",
       "\n",
       "     PCR  Other  \n",
       "0    633  12201  \n",
       "1   1018  14383  \n",
       "2    634  11399  \n",
       "3    364  11435  \n",
       "4    291  11077  \n",
       "5    405  11811  \n",
       "6    206  13490  \n",
       "7    279  14645  \n",
       "8    168  15091  \n",
       "9    143  15039  \n",
       "10    67  14957  \n",
       "11    62  14164  \n",
       "12    62  16797  "
      ]
     },
     "execution_count": 25,
     "metadata": {},
     "output_type": "execute_result"
    }
   ],
   "source": [
    "year_totals = pv.groupby('Year')\n",
    "year_agg = year_totals.sum().reset_index()\n",
    "\n",
    "year_agg=year_agg.rename(columns={'Kidnapping and Abduction':'Kidnapping','Prevention of atrocities (POA) Act':'POA','Protection of Civil Rights (PCR) Act':'PCR','Other Crimes Against SCs':'Other'})\n",
    "\n",
    "year_agg"
   ]
  },
  {
   "cell_type": "code",
   "execution_count": 26,
   "metadata": {
    "nbpresent": {
     "id": "11e11f63-b1d2-49d4-bb38-c7adaa93d320"
    }
   },
   "outputs": [
    {
     "data": {
      "text/html": [
       "<div>\n",
       "<style>\n",
       "    .dataframe thead tr:only-child th {\n",
       "        text-align: right;\n",
       "    }\n",
       "\n",
       "    .dataframe thead th {\n",
       "        text-align: left;\n",
       "    }\n",
       "\n",
       "    .dataframe tbody tr th {\n",
       "        vertical-align: top;\n",
       "    }\n",
       "</style>\n",
       "<table border=\"1\" class=\"dataframe\">\n",
       "  <thead>\n",
       "    <tr style=\"text-align: right;\">\n",
       "      <th></th>\n",
       "      <th>Year</th>\n",
       "      <th>Murder</th>\n",
       "      <th>Rape</th>\n",
       "      <th>Kidnapping</th>\n",
       "      <th>Dacoity</th>\n",
       "      <th>Robbery</th>\n",
       "      <th>Arson</th>\n",
       "      <th>Hurt</th>\n",
       "      <th>POA</th>\n",
       "      <th>PCR</th>\n",
       "      <th>Other</th>\n",
       "    </tr>\n",
       "  </thead>\n",
       "  <tbody>\n",
       "    <tr>\n",
       "      <th>count</th>\n",
       "      <td>13.00000</td>\n",
       "      <td>13.000000</td>\n",
       "      <td>13.000000</td>\n",
       "      <td>13.000000</td>\n",
       "      <td>13.000000</td>\n",
       "      <td>13.000000</td>\n",
       "      <td>13.000000</td>\n",
       "      <td>13.000000</td>\n",
       "      <td>13.000000</td>\n",
       "      <td>13.000000</td>\n",
       "      <td>13.000000</td>\n",
       "    </tr>\n",
       "    <tr>\n",
       "      <th>mean</th>\n",
       "      <td>2007.00000</td>\n",
       "      <td>659.692308</td>\n",
       "      <td>1384.000000</td>\n",
       "      <td>408.076923</td>\n",
       "      <td>33.846154</td>\n",
       "      <td>78.076923</td>\n",
       "      <td>223.538462</td>\n",
       "      <td>4158.230769</td>\n",
       "      <td>10657.307692</td>\n",
       "      <td>333.230769</td>\n",
       "      <td>13576.076923</td>\n",
       "    </tr>\n",
       "    <tr>\n",
       "      <th>std</th>\n",
       "      <td>3.89444</td>\n",
       "      <td>53.406280</td>\n",
       "      <td>253.014163</td>\n",
       "      <td>139.040439</td>\n",
       "      <td>9.044760</td>\n",
       "      <td>23.239555</td>\n",
       "      <td>56.371706</td>\n",
       "      <td>352.987996</td>\n",
       "      <td>1863.642508</td>\n",
       "      <td>282.509927</td>\n",
       "      <td>1812.889198</td>\n",
       "    </tr>\n",
       "    <tr>\n",
       "      <th>min</th>\n",
       "      <td>2001.00000</td>\n",
       "      <td>572.000000</td>\n",
       "      <td>1089.000000</td>\n",
       "      <td>232.000000</td>\n",
       "      <td>23.000000</td>\n",
       "      <td>40.000000</td>\n",
       "      <td>150.000000</td>\n",
       "      <td>3762.000000</td>\n",
       "      <td>8048.000000</td>\n",
       "      <td>62.000000</td>\n",
       "      <td>11077.000000</td>\n",
       "    </tr>\n",
       "    <tr>\n",
       "      <th>25%</th>\n",
       "      <td>2004.00000</td>\n",
       "      <td>629.000000</td>\n",
       "      <td>1218.000000</td>\n",
       "      <td>280.000000</td>\n",
       "      <td>26.000000</td>\n",
       "      <td>67.000000</td>\n",
       "      <td>195.000000</td>\n",
       "      <td>3847.000000</td>\n",
       "      <td>8892.000000</td>\n",
       "      <td>143.000000</td>\n",
       "      <td>11811.000000</td>\n",
       "    </tr>\n",
       "    <tr>\n",
       "      <th>50%</th>\n",
       "      <td>2007.00000</td>\n",
       "      <td>669.000000</td>\n",
       "      <td>1349.000000</td>\n",
       "      <td>400.000000</td>\n",
       "      <td>30.000000</td>\n",
       "      <td>75.000000</td>\n",
       "      <td>211.000000</td>\n",
       "      <td>4134.000000</td>\n",
       "      <td>10770.000000</td>\n",
       "      <td>279.000000</td>\n",
       "      <td>14164.000000</td>\n",
       "    </tr>\n",
       "    <tr>\n",
       "      <th>75%</th>\n",
       "      <td>2010.00000</td>\n",
       "      <td>674.000000</td>\n",
       "      <td>1453.000000</td>\n",
       "      <td>510.000000</td>\n",
       "      <td>41.000000</td>\n",
       "      <td>86.000000</td>\n",
       "      <td>226.000000</td>\n",
       "      <td>4344.000000</td>\n",
       "      <td>11465.000000</td>\n",
       "      <td>405.000000</td>\n",
       "      <td>14957.000000</td>\n",
       "    </tr>\n",
       "    <tr>\n",
       "      <th>max</th>\n",
       "      <td>2013.00000</td>\n",
       "      <td>763.000000</td>\n",
       "      <td>2073.000000</td>\n",
       "      <td>628.000000</td>\n",
       "      <td>50.000000</td>\n",
       "      <td>133.000000</td>\n",
       "      <td>354.000000</td>\n",
       "      <td>4901.000000</td>\n",
       "      <td>13975.000000</td>\n",
       "      <td>1018.000000</td>\n",
       "      <td>16797.000000</td>\n",
       "    </tr>\n",
       "  </tbody>\n",
       "</table>\n",
       "</div>"
      ],
      "text/plain": [
       "             Year      Murder         Rape  Kidnapping    Dacoity     Robbery  \\\n",
       "count    13.00000   13.000000    13.000000   13.000000  13.000000   13.000000   \n",
       "mean   2007.00000  659.692308  1384.000000  408.076923  33.846154   78.076923   \n",
       "std       3.89444   53.406280   253.014163  139.040439   9.044760   23.239555   \n",
       "min    2001.00000  572.000000  1089.000000  232.000000  23.000000   40.000000   \n",
       "25%    2004.00000  629.000000  1218.000000  280.000000  26.000000   67.000000   \n",
       "50%    2007.00000  669.000000  1349.000000  400.000000  30.000000   75.000000   \n",
       "75%    2010.00000  674.000000  1453.000000  510.000000  41.000000   86.000000   \n",
       "max    2013.00000  763.000000  2073.000000  628.000000  50.000000  133.000000   \n",
       "\n",
       "            Arson         Hurt           POA          PCR         Other  \n",
       "count   13.000000    13.000000     13.000000    13.000000     13.000000  \n",
       "mean   223.538462  4158.230769  10657.307692   333.230769  13576.076923  \n",
       "std     56.371706   352.987996   1863.642508   282.509927   1812.889198  \n",
       "min    150.000000  3762.000000   8048.000000    62.000000  11077.000000  \n",
       "25%    195.000000  3847.000000   8892.000000   143.000000  11811.000000  \n",
       "50%    211.000000  4134.000000  10770.000000   279.000000  14164.000000  \n",
       "75%    226.000000  4344.000000  11465.000000   405.000000  14957.000000  \n",
       "max    354.000000  4901.000000  13975.000000  1018.000000  16797.000000  "
      ]
     },
     "execution_count": 26,
     "metadata": {},
     "output_type": "execute_result"
    }
   ],
   "source": [
    "year_agg.describe()"
   ]
  },
  {
   "cell_type": "markdown",
   "metadata": {
    "collapsed": true,
    "nbpresent": {
     "id": "8691ff41-1c53-4a50-9b67-e206c866a1f4"
    }
   },
   "source": [
    "# Comparing various factors among"
   ]
  },
  {
   "cell_type": "code",
   "execution_count": 27,
   "metadata": {
    "nbpresent": {
     "id": "30b9e9b2-386e-4cd3-a0f7-0489cb12857a"
    }
   },
   "outputs": [
    {
     "data": {
      "text/plain": [
       "Text(0,0.5,'CRIME')"
      ]
     },
     "execution_count": 27,
     "metadata": {},
     "output_type": "execute_result"
    },
    {
     "data": {
      "image/png": "[encoded data removed]",
      "text/plain": [
       "<matplotlib.figure.Figure at 0x7fb8743796d8>"
      ]
     },
     "metadata": {},
     "output_type": "display_data"
    }
   ],
   "source": [
    "ax=year_agg.loc[:,'Murder':'Other'].sum(axis=1).plot(y=year_agg.Year,figsize=(15,5),markerfacecolor='blue',marker='p',markersize=12,color='skyblue',fontsize=7,linewidth=4)\n",
    "ax.set_xlabel('YEARS (2001-2013)')\n",
    "ax.set_ylabel('CRIME')"
   ]
  },
  {
   "cell_type": "markdown",
   "metadata": {
    "nbpresent": {
     "id": "2b7d0fa4-8eda-4ee9-b4d1-a5d8436ee644"
    }
   },
   "source": [
    "# Yearwise categorical crime progression (2001-2013)\n"
   ]
  },
  {
   "cell_type": "code",
   "execution_count": 28,
   "metadata": {
    "nbpresent": {
     "id": "9bf1aa66-d8f4-4a0a-9eb5-020952e38758"
    },
    "scrolled": true
   },
   "outputs": [
    {
     "data": {
      "image/png": "[encoded data removed]",
      "text/plain": [
       "<matplotlib.figure.Figure at 0x7fb874244b00>"
      ]
     },
     "metadata": {},
     "output_type": "display_data"
    }
   ],
   "source": [
    "plot_crime_progression=year_agg.drop(['Year'],axis=1)\n",
    "\n",
    "plt.figure(figsize=(10,30)) \n",
    "plt.subplot(10, 1, 1)\n",
    "plt.plot(year_agg.Year,year_agg.Murder, 'o-',markerfacecolor='black',marker='p',linewidth=2,color='olive')\n",
    "plt.title('Year wise categorical crime progression (2001-2013)')\n",
    "plt.ylabel('Murder Rate')\n",
    "plt.grid(True)\n",
    "\n",
    "\n",
    "plt.subplot(10, 1, 2)\n",
    "plt.plot(year_agg.Year,year_agg.Rape, '.-',markerfacecolor='black',marker='p',linewidth=2,color='violet')\n",
    "plt.ylabel('Rapes')\n",
    "plt.grid(True)\n",
    "\n",
    "plt.subplot(10, 1, 3)\n",
    "plt.plot(year_agg.Year,year_agg.Kidnapping, '.-',markerfacecolor='black',marker='p',linewidth=2,color='blue')\n",
    "plt.ylabel('Kidnapping')\n",
    "plt.grid(True)\n",
    "\n",
    "plt.subplot(10, 1, 4)\n",
    "plt.plot(year_agg.Year,year_agg.Dacoity, '.-',markerfacecolor='black',marker='p',linewidth=2,color='green')\n",
    "plt.ylabel('Dacoity')\n",
    "plt.grid(True)\n",
    "\n",
    "plt.subplot(10, 1, 5)\n",
    "plt.plot(year_agg.Year,year_agg.Robbery, '.-',markerfacecolor='black',marker='p',linewidth=2,color='yellow')\n",
    "plt.ylabel('Robbery')\n",
    "plt.grid(True)\n",
    "\n",
    "plt.subplot(10, 1, 6)\n",
    "plt.plot(year_agg.Year,year_agg.Arson, '.-',markerfacecolor='black',marker='p',linewidth=2,color='orange')\n",
    "plt.ylabel('Arson')\n",
    "plt.grid(True)\n",
    "\n",
    "plt.subplot(10, 1, 7)\n",
    "plt.plot(year_agg.Year,year_agg.Hurt, '.-',markerfacecolor='black',marker='p',linewidth=2,color='red')\n",
    "plt.ylabel('Hurt')\n",
    "plt.grid(True)\n",
    "\n",
    "plt.subplot(10, 1, 8)\n",
    "plt.plot(year_agg.Year,year_agg.POA, '.-',markerfacecolor='black',marker='p',linewidth=2,color='pink')\n",
    "plt.ylabel('POA')\n",
    "plt.grid(True)\n",
    "\n",
    "plt.subplot(10, 1, 9)\n",
    "plt.plot(year_agg.Year,year_agg.PCR, '.-',markerfacecolor='black',marker='p',linewidth=2,color='indigo')\n",
    "plt.ylabel('PCR')\n",
    "plt.grid(True)\n",
    "\n",
    "plt.subplot(10, 1, 10)\n",
    "plt.plot(year_agg.Year,year_agg.Other, '.-',markerfacecolor='black',marker='p',linewidth=2,color='cyan')\n",
    "plt.xlabel('Crime progression with year (2001-2013)')\n",
    "plt.ylabel('Other')\n",
    "plt.grid(True)\n",
    "\n"
   ]
  },
  {
   "cell_type": "code",
   "execution_count": 12,
   "metadata": {
    "nbpresent": {
     "id": "c78d5d35-3b58-4cd7-b408-4f5e6c7aab0c"
    },
    "scrolled": true
   },
   "outputs": [
    {
     "data": {
      "text/html": [
       "<div>\n",
       "<style>\n",
       "    .dataframe thead tr:only-child th {\n",
       "        text-align: right;\n",
       "    }\n",
       "\n",
       "    .dataframe thead th {\n",
       "        text-align: left;\n",
       "    }\n",
       "\n",
       "    .dataframe tbody tr th {\n",
       "        vertical-align: top;\n",
       "    }\n",
       "</style>\n",
       "<table border=\"1\" class=\"dataframe\">\n",
       "  <thead>\n",
       "    <tr style=\"text-align: right;\">\n",
       "      <th></th>\n",
       "      <th>STATE_UT</th>\n",
       "      <th>Murder</th>\n",
       "      <th>Rape</th>\n",
       "      <th>Kidnapping</th>\n",
       "      <th>Dacoity</th>\n",
       "      <th>Robbery</th>\n",
       "      <th>Arson</th>\n",
       "      <th>Hurt</th>\n",
       "      <th>POA</th>\n",
       "      <th>PCR</th>\n",
       "      <th>Other</th>\n",
       "    </tr>\n",
       "  </thead>\n",
       "  <tbody>\n",
       "    <tr>\n",
       "      <th>0</th>\n",
       "      <td>A&amp;N ISLANDS</td>\n",
       "      <td>0</td>\n",
       "      <td>0</td>\n",
       "      <td>0</td>\n",
       "      <td>0</td>\n",
       "      <td>0</td>\n",
       "      <td>0</td>\n",
       "      <td>0</td>\n",
       "      <td>0</td>\n",
       "      <td>0</td>\n",
       "      <td>0</td>\n",
       "    </tr>\n",
       "    <tr>\n",
       "      <th>1</th>\n",
       "      <td>ANDHRA PRADESH</td>\n",
       "      <td>609</td>\n",
       "      <td>1224</td>\n",
       "      <td>252</td>\n",
       "      <td>12</td>\n",
       "      <td>40</td>\n",
       "      <td>141</td>\n",
       "      <td>7907</td>\n",
       "      <td>15855</td>\n",
       "      <td>1517</td>\n",
       "      <td>19132</td>\n",
       "    </tr>\n",
       "    <tr>\n",
       "      <th>2</th>\n",
       "      <td>ARUNACHAL PRADESH</td>\n",
       "      <td>1</td>\n",
       "      <td>0</td>\n",
       "      <td>0</td>\n",
       "      <td>0</td>\n",
       "      <td>1</td>\n",
       "      <td>0</td>\n",
       "      <td>0</td>\n",
       "      <td>0</td>\n",
       "      <td>0</td>\n",
       "      <td>0</td>\n",
       "    </tr>\n",
       "    <tr>\n",
       "      <th>3</th>\n",
       "      <td>ASSAM</td>\n",
       "      <td>57</td>\n",
       "      <td>57</td>\n",
       "      <td>96</td>\n",
       "      <td>14</td>\n",
       "      <td>33</td>\n",
       "      <td>25</td>\n",
       "      <td>341</td>\n",
       "      <td>8</td>\n",
       "      <td>1</td>\n",
       "      <td>322</td>\n",
       "    </tr>\n",
       "    <tr>\n",
       "      <th>4</th>\n",
       "      <td>BIHAR</td>\n",
       "      <td>336</td>\n",
       "      <td>352</td>\n",
       "      <td>136</td>\n",
       "      <td>29</td>\n",
       "      <td>78</td>\n",
       "      <td>360</td>\n",
       "      <td>4813</td>\n",
       "      <td>29009</td>\n",
       "      <td>466</td>\n",
       "      <td>4483</td>\n",
       "    </tr>\n",
       "    <tr>\n",
       "      <th>5</th>\n",
       "      <td>CHANDIGARH</td>\n",
       "      <td>0</td>\n",
       "      <td>2</td>\n",
       "      <td>0</td>\n",
       "      <td>0</td>\n",
       "      <td>0</td>\n",
       "      <td>0</td>\n",
       "      <td>0</td>\n",
       "      <td>8</td>\n",
       "      <td>0</td>\n",
       "      <td>5</td>\n",
       "    </tr>\n",
       "    <tr>\n",
       "      <th>6</th>\n",
       "      <td>CHHATTISGARH</td>\n",
       "      <td>123</td>\n",
       "      <td>716</td>\n",
       "      <td>50</td>\n",
       "      <td>1</td>\n",
       "      <td>14</td>\n",
       "      <td>18</td>\n",
       "      <td>792</td>\n",
       "      <td>925</td>\n",
       "      <td>24</td>\n",
       "      <td>2793</td>\n",
       "    </tr>\n",
       "    <tr>\n",
       "      <th>7</th>\n",
       "      <td>D&amp;N HAVELI</td>\n",
       "      <td>0</td>\n",
       "      <td>0</td>\n",
       "      <td>2</td>\n",
       "      <td>0</td>\n",
       "      <td>0</td>\n",
       "      <td>0</td>\n",
       "      <td>0</td>\n",
       "      <td>0</td>\n",
       "      <td>0</td>\n",
       "      <td>5</td>\n",
       "    </tr>\n",
       "    <tr>\n",
       "      <th>8</th>\n",
       "      <td>DAMAN &amp; DIU</td>\n",
       "      <td>0</td>\n",
       "      <td>0</td>\n",
       "      <td>0</td>\n",
       "      <td>0</td>\n",
       "      <td>0</td>\n",
       "      <td>0</td>\n",
       "      <td>1</td>\n",
       "      <td>0</td>\n",
       "      <td>0</td>\n",
       "      <td>5</td>\n",
       "    </tr>\n",
       "    <tr>\n",
       "      <th>9</th>\n",
       "      <td>DELHI</td>\n",
       "      <td>1</td>\n",
       "      <td>0</td>\n",
       "      <td>0</td>\n",
       "      <td>0</td>\n",
       "      <td>0</td>\n",
       "      <td>0</td>\n",
       "      <td>0</td>\n",
       "      <td>293</td>\n",
       "      <td>9</td>\n",
       "      <td>36</td>\n",
       "    </tr>\n",
       "    <tr>\n",
       "      <th>10</th>\n",
       "      <td>GOA</td>\n",
       "      <td>0</td>\n",
       "      <td>1</td>\n",
       "      <td>0</td>\n",
       "      <td>0</td>\n",
       "      <td>0</td>\n",
       "      <td>0</td>\n",
       "      <td>1</td>\n",
       "      <td>20</td>\n",
       "      <td>2</td>\n",
       "      <td>21</td>\n",
       "    </tr>\n",
       "    <tr>\n",
       "      <th>11</th>\n",
       "      <td>GUJARAT</td>\n",
       "      <td>233</td>\n",
       "      <td>400</td>\n",
       "      <td>339</td>\n",
       "      <td>94</td>\n",
       "      <td>230</td>\n",
       "      <td>125</td>\n",
       "      <td>3544</td>\n",
       "      <td>4183</td>\n",
       "      <td>55</td>\n",
       "      <td>5927</td>\n",
       "    </tr>\n",
       "    <tr>\n",
       "      <th>12</th>\n",
       "      <td>HARYANA</td>\n",
       "      <td>150</td>\n",
       "      <td>578</td>\n",
       "      <td>258</td>\n",
       "      <td>2</td>\n",
       "      <td>12</td>\n",
       "      <td>34</td>\n",
       "      <td>533</td>\n",
       "      <td>866</td>\n",
       "      <td>3</td>\n",
       "      <td>1423</td>\n",
       "    </tr>\n",
       "    <tr>\n",
       "      <th>13</th>\n",
       "      <td>HIMACHAL PRADESH</td>\n",
       "      <td>10</td>\n",
       "      <td>111</td>\n",
       "      <td>2</td>\n",
       "      <td>8</td>\n",
       "      <td>6</td>\n",
       "      <td>1</td>\n",
       "      <td>11</td>\n",
       "      <td>711</td>\n",
       "      <td>39</td>\n",
       "      <td>373</td>\n",
       "    </tr>\n",
       "    <tr>\n",
       "      <th>14</th>\n",
       "      <td>JAMMU &amp; KASHMIR</td>\n",
       "      <td>3</td>\n",
       "      <td>7</td>\n",
       "      <td>0</td>\n",
       "      <td>0</td>\n",
       "      <td>0</td>\n",
       "      <td>1</td>\n",
       "      <td>7</td>\n",
       "      <td>0</td>\n",
       "      <td>11</td>\n",
       "      <td>12</td>\n",
       "    </tr>\n",
       "    <tr>\n",
       "      <th>15</th>\n",
       "      <td>JHARKHAND</td>\n",
       "      <td>71</td>\n",
       "      <td>136</td>\n",
       "      <td>48</td>\n",
       "      <td>16</td>\n",
       "      <td>2</td>\n",
       "      <td>23</td>\n",
       "      <td>1182</td>\n",
       "      <td>2534</td>\n",
       "      <td>19</td>\n",
       "      <td>1724</td>\n",
       "    </tr>\n",
       "    <tr>\n",
       "      <th>16</th>\n",
       "      <td>KARNATAKA</td>\n",
       "      <td>333</td>\n",
       "      <td>396</td>\n",
       "      <td>81</td>\n",
       "      <td>20</td>\n",
       "      <td>21</td>\n",
       "      <td>21</td>\n",
       "      <td>2188</td>\n",
       "      <td>15153</td>\n",
       "      <td>493</td>\n",
       "      <td>8266</td>\n",
       "    </tr>\n",
       "    <tr>\n",
       "      <th>17</th>\n",
       "      <td>KERALA</td>\n",
       "      <td>38</td>\n",
       "      <td>897</td>\n",
       "      <td>25</td>\n",
       "      <td>5</td>\n",
       "      <td>10</td>\n",
       "      <td>22</td>\n",
       "      <td>2298</td>\n",
       "      <td>1165</td>\n",
       "      <td>4</td>\n",
       "      <td>2518</td>\n",
       "    </tr>\n",
       "    <tr>\n",
       "      <th>18</th>\n",
       "      <td>LAKSHADWEEP</td>\n",
       "      <td>0</td>\n",
       "      <td>1</td>\n",
       "      <td>0</td>\n",
       "      <td>0</td>\n",
       "      <td>0</td>\n",
       "      <td>0</td>\n",
       "      <td>0</td>\n",
       "      <td>0</td>\n",
       "      <td>0</td>\n",
       "      <td>0</td>\n",
       "    </tr>\n",
       "    <tr>\n",
       "      <th>19</th>\n",
       "      <td>MADHYA PRADESH</td>\n",
       "      <td>1139</td>\n",
       "      <td>4504</td>\n",
       "      <td>582</td>\n",
       "      <td>9</td>\n",
       "      <td>97</td>\n",
       "      <td>471</td>\n",
       "      <td>10810</td>\n",
       "      <td>2857</td>\n",
       "      <td>11</td>\n",
       "      <td>32275</td>\n",
       "    </tr>\n",
       "    <tr>\n",
       "      <th>20</th>\n",
       "      <td>MAHARASHTRA</td>\n",
       "      <td>283</td>\n",
       "      <td>1158</td>\n",
       "      <td>184</td>\n",
       "      <td>148</td>\n",
       "      <td>119</td>\n",
       "      <td>119</td>\n",
       "      <td>933</td>\n",
       "      <td>3487</td>\n",
       "      <td>399</td>\n",
       "      <td>6257</td>\n",
       "    </tr>\n",
       "    <tr>\n",
       "      <th>21</th>\n",
       "      <td>MANIPUR</td>\n",
       "      <td>0</td>\n",
       "      <td>1</td>\n",
       "      <td>0</td>\n",
       "      <td>0</td>\n",
       "      <td>0</td>\n",
       "      <td>0</td>\n",
       "      <td>0</td>\n",
       "      <td>0</td>\n",
       "      <td>0</td>\n",
       "      <td>0</td>\n",
       "    </tr>\n",
       "    <tr>\n",
       "      <th>22</th>\n",
       "      <td>MEGHALAYA</td>\n",
       "      <td>0</td>\n",
       "      <td>0</td>\n",
       "      <td>0</td>\n",
       "      <td>0</td>\n",
       "      <td>0</td>\n",
       "      <td>0</td>\n",
       "      <td>0</td>\n",
       "      <td>0</td>\n",
       "      <td>0</td>\n",
       "      <td>0</td>\n",
       "    </tr>\n",
       "    <tr>\n",
       "      <th>23</th>\n",
       "      <td>MIZORAM</td>\n",
       "      <td>0</td>\n",
       "      <td>0</td>\n",
       "      <td>0</td>\n",
       "      <td>0</td>\n",
       "      <td>1</td>\n",
       "      <td>0</td>\n",
       "      <td>0</td>\n",
       "      <td>0</td>\n",
       "      <td>0</td>\n",
       "      <td>0</td>\n",
       "    </tr>\n",
       "    <tr>\n",
       "      <th>24</th>\n",
       "      <td>NAGALAND</td>\n",
       "      <td>12</td>\n",
       "      <td>6</td>\n",
       "      <td>1</td>\n",
       "      <td>0</td>\n",
       "      <td>0</td>\n",
       "      <td>0</td>\n",
       "      <td>0</td>\n",
       "      <td>0</td>\n",
       "      <td>0</td>\n",
       "      <td>29</td>\n",
       "    </tr>\n",
       "    <tr>\n",
       "      <th>25</th>\n",
       "      <td>ODISHA</td>\n",
       "      <td>177</td>\n",
       "      <td>673</td>\n",
       "      <td>157</td>\n",
       "      <td>19</td>\n",
       "      <td>67</td>\n",
       "      <td>190</td>\n",
       "      <td>3927</td>\n",
       "      <td>11496</td>\n",
       "      <td>18</td>\n",
       "      <td>4274</td>\n",
       "    </tr>\n",
       "    <tr>\n",
       "      <th>26</th>\n",
       "      <td>PUDUCHERRY</td>\n",
       "      <td>4</td>\n",
       "      <td>1</td>\n",
       "      <td>1</td>\n",
       "      <td>0</td>\n",
       "      <td>0</td>\n",
       "      <td>0</td>\n",
       "      <td>5</td>\n",
       "      <td>16</td>\n",
       "      <td>246</td>\n",
       "      <td>8</td>\n",
       "    </tr>\n",
       "    <tr>\n",
       "      <th>27</th>\n",
       "      <td>PUNJAB</td>\n",
       "      <td>39</td>\n",
       "      <td>137</td>\n",
       "      <td>26</td>\n",
       "      <td>0</td>\n",
       "      <td>1</td>\n",
       "      <td>0</td>\n",
       "      <td>171</td>\n",
       "      <td>718</td>\n",
       "      <td>5</td>\n",
       "      <td>541</td>\n",
       "    </tr>\n",
       "    <tr>\n",
       "      <th>28</th>\n",
       "      <td>RAJASTHAN</td>\n",
       "      <td>706</td>\n",
       "      <td>2203</td>\n",
       "      <td>418</td>\n",
       "      <td>1</td>\n",
       "      <td>34</td>\n",
       "      <td>507</td>\n",
       "      <td>6558</td>\n",
       "      <td>8051</td>\n",
       "      <td>7</td>\n",
       "      <td>42992</td>\n",
       "    </tr>\n",
       "    <tr>\n",
       "      <th>29</th>\n",
       "      <td>SIKKIM</td>\n",
       "      <td>8</td>\n",
       "      <td>17</td>\n",
       "      <td>10</td>\n",
       "      <td>0</td>\n",
       "      <td>5</td>\n",
       "      <td>2</td>\n",
       "      <td>42</td>\n",
       "      <td>3</td>\n",
       "      <td>0</td>\n",
       "      <td>18</td>\n",
       "    </tr>\n",
       "    <tr>\n",
       "      <th>30</th>\n",
       "      <td>TAMIL NADU</td>\n",
       "      <td>380</td>\n",
       "      <td>287</td>\n",
       "      <td>67</td>\n",
       "      <td>5</td>\n",
       "      <td>25</td>\n",
       "      <td>95</td>\n",
       "      <td>2529</td>\n",
       "      <td>12179</td>\n",
       "      <td>501</td>\n",
       "      <td>4400</td>\n",
       "    </tr>\n",
       "    <tr>\n",
       "      <th>31</th>\n",
       "      <td>TRIPURA</td>\n",
       "      <td>7</td>\n",
       "      <td>18</td>\n",
       "      <td>7</td>\n",
       "      <td>0</td>\n",
       "      <td>1</td>\n",
       "      <td>1</td>\n",
       "      <td>77</td>\n",
       "      <td>8</td>\n",
       "      <td>0</td>\n",
       "      <td>112</td>\n",
       "    </tr>\n",
       "    <tr>\n",
       "      <th>32</th>\n",
       "      <td>UTTAR PRADESH</td>\n",
       "      <td>3799</td>\n",
       "      <td>4016</td>\n",
       "      <td>2529</td>\n",
       "      <td>57</td>\n",
       "      <td>217</td>\n",
       "      <td>744</td>\n",
       "      <td>5191</td>\n",
       "      <td>28225</td>\n",
       "      <td>501</td>\n",
       "      <td>38272</td>\n",
       "    </tr>\n",
       "    <tr>\n",
       "      <th>33</th>\n",
       "      <td>UTTARAKHAND</td>\n",
       "      <td>55</td>\n",
       "      <td>72</td>\n",
       "      <td>31</td>\n",
       "      <td>0</td>\n",
       "      <td>1</td>\n",
       "      <td>4</td>\n",
       "      <td>168</td>\n",
       "      <td>629</td>\n",
       "      <td>0</td>\n",
       "      <td>45</td>\n",
       "    </tr>\n",
       "    <tr>\n",
       "      <th>34</th>\n",
       "      <td>WEST BENGAL</td>\n",
       "      <td>2</td>\n",
       "      <td>21</td>\n",
       "      <td>3</td>\n",
       "      <td>0</td>\n",
       "      <td>0</td>\n",
       "      <td>2</td>\n",
       "      <td>28</td>\n",
       "      <td>146</td>\n",
       "      <td>1</td>\n",
       "      <td>221</td>\n",
       "    </tr>\n",
       "  </tbody>\n",
       "</table>\n",
       "</div>"
      ],
      "text/plain": [
       "             STATE_UT  Murder  Rape  Kidnapping  Dacoity  Robbery  Arson  \\\n",
       "0         A&N ISLANDS       0     0           0        0        0      0   \n",
       "1      ANDHRA PRADESH     609  1224         252       12       40    141   \n",
       "2   ARUNACHAL PRADESH       1     0           0        0        1      0   \n",
       "3               ASSAM      57    57          96       14       33     25   \n",
       "4               BIHAR     336   352         136       29       78    360   \n",
       "5          CHANDIGARH       0     2           0        0        0      0   \n",
       "6        CHHATTISGARH     123   716          50        1       14     18   \n",
       "7          D&N HAVELI       0     0           2        0        0      0   \n",
       "8         DAMAN & DIU       0     0           0        0        0      0   \n",
       "9               DELHI       1     0           0        0        0      0   \n",
       "10                GOA       0     1           0        0        0      0   \n",
       "11            GUJARAT     233   400         339       94      230    125   \n",
       "12            HARYANA     150   578         258        2       12     34   \n",
       "13   HIMACHAL PRADESH      10   111           2        8        6      1   \n",
       "14    JAMMU & KASHMIR       3     7           0        0        0      1   \n",
       "15          JHARKHAND      71   136          48       16        2     23   \n",
       "16          KARNATAKA     333   396          81       20       21     21   \n",
       "17             KERALA      38   897          25        5       10     22   \n",
       "18        LAKSHADWEEP       0     1           0        0        0      0   \n",
       "19     MADHYA PRADESH    1139  4504         582        9       97    471   \n",
       "20        MAHARASHTRA     283  1158         184      148      119    119   \n",
       "21            MANIPUR       0     1           0        0        0      0   \n",
       "22          MEGHALAYA       0     0           0        0        0      0   \n",
       "23            MIZORAM       0     0           0        0        1      0   \n",
       "24           NAGALAND      12     6           1        0        0      0   \n",
       "25             ODISHA     177   673         157       19       67    190   \n",
       "26         PUDUCHERRY       4     1           1        0        0      0   \n",
       "27             PUNJAB      39   137          26        0        1      0   \n",
       "28          RAJASTHAN     706  2203         418        1       34    507   \n",
       "29             SIKKIM       8    17          10        0        5      2   \n",
       "30         TAMIL NADU     380   287          67        5       25     95   \n",
       "31            TRIPURA       7    18           7        0        1      1   \n",
       "32      UTTAR PRADESH    3799  4016        2529       57      217    744   \n",
       "33        UTTARAKHAND      55    72          31        0        1      4   \n",
       "34        WEST BENGAL       2    21           3        0        0      2   \n",
       "\n",
       "     Hurt    POA   PCR  Other  \n",
       "0       0      0     0      0  \n",
       "1    7907  15855  1517  19132  \n",
       "2       0      0     0      0  \n",
       "3     341      8     1    322  \n",
       "4    4813  29009   466   4483  \n",
       "5       0      8     0      5  \n",
       "6     792    925    24   2793  \n",
       "7       0      0     0      5  \n",
       "8       1      0     0      5  \n",
       "9       0    293     9     36  \n",
       "10      1     20     2     21  \n",
       "11   3544   4183    55   5927  \n",
       "12    533    866     3   1423  \n",
       "13     11    711    39    373  \n",
       "14      7      0    11     12  \n",
       "15   1182   2534    19   1724  \n",
       "16   2188  15153   493   8266  \n",
       "17   2298   1165     4   2518  \n",
       "18      0      0     0      0  \n",
       "19  10810   2857    11  32275  \n",
       "20    933   3487   399   6257  \n",
       "21      0      0     0      0  \n",
       "22      0      0     0      0  \n",
       "23      0      0     0      0  \n",
       "24      0      0     0     29  \n",
       "25   3927  11496    18   4274  \n",
       "26      5     16   246      8  \n",
       "27    171    718     5    541  \n",
       "28   6558   8051     7  42992  \n",
       "29     42      3     0     18  \n",
       "30   2529  12179   501   4400  \n",
       "31     77      8     0    112  \n",
       "32   5191  28225   501  38272  \n",
       "33    168    629     0     45  \n",
       "34     28    146     1    221  "
      ]
     },
     "execution_count": 12,
     "metadata": {},
     "output_type": "execute_result"
    }
   ],
   "source": [
    "year_totals = pv.groupby('STATE_UT')\n",
    "year_agg = year_totals.sum().reset_index()\n",
    "\n",
    "year_agg=year_agg.rename(columns={'Kidnapping and Abduction':'Kidnapping','Prevention of atrocities (POA) Act':'POA','Protection of Civil Rights (PCR) Act':'PCR','Other Crimes Against SCs':'Other'})\n",
    "\n",
    "final=year_agg.drop('Year',axis=1)\n",
    "final"
   ]
  },
  {
   "cell_type": "code",
   "execution_count": 13,
   "metadata": {
    "nbpresent": {
     "id": "3a085b3d-c548-4c82-ba4e-5d7db4c6f3a5"
    }
   },
   "outputs": [
    {
     "data": {
      "text/plain": [
       "<matplotlib.axes._subplots.AxesSubplot at 0x7fb874103da0>"
      ]
     },
     "execution_count": 13,
     "metadata": {},
     "output_type": "execute_result"
    },
    {
     "data": {
      "image/png": "[encoded data removed]",
      "text/plain": [
       "<matplotlib.figure.Figure at 0x7fb873a72b70>"
      ]
     },
     "metadata": {},
     "output_type": "display_data"
    }
   ],
   "source": [
    "cols = list(year_agg.columns)\n",
    "corr = year_agg[cols].corr()\n",
    "mask = np.array(corr)\n",
    "mask[np.tril_indices_from(mask)] = False\n",
    "fig, ax = plt.subplots()\n",
    "fig.set_size_inches(7,7)\n",
    "sn.heatmap(corr, mask=mask, ax=ax, square=True,)"
   ]
  },
  {
   "cell_type": "markdown",
   "metadata": {
    "collapsed": true,
    "nbpresent": {
     "id": "a32b5d9f-3599-4399-9296-6ba4c3deb1d5"
    }
   },
   "source": [
    "# Predictive Analysis"
   ]
  },
  {
   "cell_type": "code",
   "execution_count": 14,
   "metadata": {
    "collapsed": true,
    "nbpresent": {
     "id": "47d6c1e4-5a6f-48f3-b026-a77cfbd1d0c2"
    }
   },
   "outputs": [],
   "source": [
    "#converting to dtetime format\n",
    "pv.Year=pv.Year.astype('str')\n",
    "pv.Year=pd.to_datetime(pv.Year)"
   ]
  },
  {
   "cell_type": "code",
   "execution_count": 15,
   "metadata": {
    "nbpresent": {
     "id": "0525aebf-c689-4aa7-bfb8-ee84fd602a1d"
    },
    "scrolled": false
   },
   "outputs": [
    {
     "name": "stdout",
     "output_type": "stream",
     "text": [
      "            total\n",
      "Year             \n",
      "2001-01-01  33502\n",
      "2002-01-01  33507\n",
      "2003-01-01  26250\n",
      "2004-01-01  26888\n",
      "2005-01-01  26127\n",
      "2006-01-01  27076\n",
      "2007-01-01  30031\n",
      "2008-01-01  33430\n",
      "2009-01-01  33412\n",
      "2010-01-01  32643\n"
     ]
    },
    {
     "data": {
      "text/plain": [
       "<matplotlib.axes._subplots.AxesSubplot at 0x7fb8740b1518>"
      ]
     },
     "execution_count": 15,
     "metadata": {},
     "output_type": "execute_result"
    },
    {
     "data": {
      "image/png": "[encoded data removed]",
      "text/plain": [
       "<matplotlib.figure.Figure at 0x7fb8739c1400>"
      ]
     },
     "metadata": {},
     "output_type": "display_data"
    }
   ],
   "source": [
    "#adding total crime column\n",
    "\n",
    "pv=pv.rename(columns={'Kidnapping and Abduction':'Kidnapping','Prevention of atrocities (POA) Act':'POA','Protection of Civil Rights (PCR) Act':'PCR','Other Crimes Against SCs':'Other'})\n",
    "total_crime_sc=pv.loc[:,'Murder':'Other'].sum(axis=1)\n",
    "pv['total']=total_crime_sc\n",
    "\n",
    "\n",
    "df_arima=pv.groupby('Year').sum()\n",
    "df_arima_total=df_arima.loc[:,['total']]\n",
    "print(df_arima_total.head(10))\n",
    "df_arima_total.plot(figsize=(15,5),grid=True,marker='o',linewidth=4,markerfacecolor='black')\n"
   ]
  },
  {
   "cell_type": "code",
   "execution_count": 29,
   "metadata": {
    "nbpresent": {
     "id": "840a92e6-80fb-4100-8219-2a401ae912c6"
    },
    "scrolled": true
   },
   "outputs": [
    {
     "name": "stderr",
     "output_type": "stream",
     "text": [
      "/home/java/anaconda/lib/python3.6/site-packages/ipykernel_launcher.py:3: FutureWarning: 'pandas.tools.plotting.autocorrelation_plot' is deprecated, import 'pandas.plotting.autocorrelation_plot' instead.\n",
      "  This is separate from the ipykernel package so we can avoid doing imports until\n"
     ]
    },
    {
     "data": {
      "text/plain": [
       "<matplotlib.axes._subplots.AxesSubplot at 0x7fb874379a58>"
      ]
     },
     "execution_count": 29,
     "metadata": {},
     "output_type": "execute_result"
    },
    {
     "data": {
      "image/png": "[encoded data removed]",
      "text/plain": [
       "<matplotlib.figure.Figure at 0x7fb87414fac8>"
      ]
     },
     "metadata": {},
     "output_type": "display_data"
    }
   ],
   "source": [
    "from pandas.tools.plotting import autocorrelation_plot\n",
    "\n",
    "autocorrelation_plot(df_arima_total)"
   ]
  },
  {
   "cell_type": "code",
   "execution_count": 43,
   "metadata": {},
   "outputs": [],
   "source": [
    "df_arima_total.to_csv(path_or_buf='/home/java/Desktop/HORIZON2020/DATASETS/sc/df_arima_total.csv')"
   ]
  },
  {
   "cell_type": "code",
   "execution_count": 44,
   "metadata": {
    "nbpresent": {
     "id": "bc5a64ee-20da-4529-9471-8047ef9ae9d0"
    }
   },
   "outputs": [],
   "source": [
    "from pandas import datetime\n",
    "from pandas import DataFrame\n",
    "import statsmodels as sm\n",
    "from matplotlib import pyplot\n",
    " \n",
    "\n",
    " \n",
    "dateparse = lambda dates: pd.datetime.strptime(dates, '%Y-%m-%d')\n",
    "df_arima_test = pd.read_csv('/home/java/Desktop/HORIZON2020/DATASETS/sc/df_arima_total.csv',parse_dates=['Year'], index_col='Year',date_parser=dateparse)\n",
    "# fit model\n",
    "df_arima_test=df_arima_test.total.astype('int')\n",
    "df_arima_test.columns=['year','total']\n",
    "df_arima_test=df_arima_test.to_frame('df_arima_test')"
   ]
  }
 ],
 "metadata": {
  "anaconda-cloud": {},
  "kernelspec": {
   "display_name": "Python 3",
   "language": "python",
   "name": "python3"
  },
  "language_info": {
   "codemirror_mode": {
    "name": "ipython",
    "version": 3
   },
   "file_extension": ".py",
   "mimetype": "text/x-python",
   "name": "python",
   "nbconvert_exporter": "python",
   "pygments_lexer": "ipython3",
   "version": "3.6.3"
  },
  "nbpresent": {
   "slides": {},
   "themes": {
    "default": "b15e701c-c9a1-4fba-97a7-c402d532f6ea",
    "theme": {
     "b15e701c-c9a1-4fba-97a7-c402d532f6ea": {
      "backgrounds": {
       "dc7afa04-bf90-40b1-82a5-726e3cff5267": {
        "background-color": "31af15d2-7e15-44c5-ab5e-e04b16a89eff",
        "id": "dc7afa04-bf90-40b1-82a5-726e3cff5267"
       }
      },
      "id": "b15e701c-c9a1-4fba-97a7-c402d532f6ea",
      "palette": {
       "19cc588f-0593-49c9-9f4b-e4d7cc113b1c": {
        "id": "19cc588f-0593-49c9-9f4b-e4d7cc113b1c",
        "rgb": [
         252,
         252,
         252
        ]
       },
       "31af15d2-7e15-44c5-ab5e-e04b16a89eff": {
        "id": "31af15d2-7e15-44c5-ab5e-e04b16a89eff",
        "rgb": [
         68,
         68,
         68
        ]
       },
       "50f92c45-a630-455b-aec3-788680ec7410": {
        "id": "50f92c45-a630-455b-aec3-788680ec7410",
        "rgb": [
         197,
         226,
         245
        ]
       },
       "c5cc3653-2ee1-402a-aba2-7caae1da4f6c": {
        "id": "c5cc3653-2ee1-402a-aba2-7caae1da4f6c",
        "rgb": [
         43,
         126,
         184
        ]
       },
       "efa7f048-9acb-414c-8b04-a26811511a21": {
        "id": "efa7f048-9acb-414c-8b04-a26811511a21",
        "rgb": [
         25.118061674008803,
         73.60176211453744,
         107.4819383259912
        ]
       }
      },
      "rules": {
       "a": {
        "color": "19cc588f-0593-49c9-9f4b-e4d7cc113b1c"
       },
       "blockquote": {
        "color": "50f92c45-a630-455b-aec3-788680ec7410",
        "font-size": 3
       },
       "code": {
        "font-family": "Anonymous Pro"
       },
       "h1": {
        "color": "19cc588f-0593-49c9-9f4b-e4d7cc113b1c",
        "font-family": "Merriweather",
        "font-size": 8
       },
       "h2": {
        "color": "19cc588f-0593-49c9-9f4b-e4d7cc113b1c",
        "font-family": "Merriweather",
        "font-size": 6
       },
       "h3": {
        "color": "50f92c45-a630-455b-aec3-788680ec7410",
        "font-family": "Lato",
        "font-size": 5.5
       },
       "h4": {
        "color": "c5cc3653-2ee1-402a-aba2-7caae1da4f6c",
        "font-family": "Lato",
        "font-size": 5
       },
       "h5": {
        "font-family": "Lato"
       },
       "h6": {
        "font-family": "Lato"
       },
       "h7": {
        "font-family": "Lato"
       },
       "li": {
        "color": "50f92c45-a630-455b-aec3-788680ec7410",
        "font-size": 3.25
       },
       "pre": {
        "font-family": "Anonymous Pro",
        "font-size": 4
       }
      },
      "text-base": {
       "color": "19cc588f-0593-49c9-9f4b-e4d7cc113b1c",
       "font-family": "Lato",
       "font-size": 4
      }
     },
     "d70d2118-ad19-4820-a80f-1a9d35a8e823": {
      "backgrounds": {
       "backgroundColor": {
        "background-color": "backgroundColor",
        "id": "backgroundColor"
       }
      },
      "id": "d70d2118-ad19-4820-a80f-1a9d35a8e823",
      "palette": {
       "backgroundColor": {
        "id": "backgroundColor",
        "rgb": [
         34,
         34,
         34
        ]
       },
       "headingColor": {
        "id": "headingColor",
        "rgb": [
         256,
         256,
         256
        ]
       },
       "linkColor": {
        "id": "linkColor",
        "rgb": [
         66,
         175,
         250
        ]
       },
       "mainColor": {
        "id": "mainColor",
        "rgb": [
         256,
         256,
         256
        ]
       }
      },
      "rules": {
       "a": {
        "color": "linkColor"
       },
       "h1": {
        "color": "headingColor",
        "font-family": "Source Sans Pro",
        "font-size": 5.25
       },
       "h2": {
        "color": "headingColor",
        "font-family": "Source Sans Pro",
        "font-size": 4
       },
       "h3": {
        "color": "headingColor",
        "font-family": "Source Sans Pro",
        "font-size": 3.5
       },
       "h4": {
        "color": "headingColor",
        "font-family": "Source Sans Pro",
        "font-size": 3
       },
       "h5": {
        "color": "headingColor",
        "font-family": "Source Sans Pro"
       },
       "h6": {
        "color": "headingColor",
        "font-family": "Source Sans Pro"
       },
       "h7": {
        "color": "headingColor",
        "font-family": "Source Sans Pro"
       },
       "li": {
        "color": "mainColor",
        "font-family": "Source Sans Pro",
        "font-size": 6
       },
       "p": {
        "color": "mainColor",
        "font-family": "Source Sans Pro",
        "font-size": 6
       }
      },
      "text-base": {
       "color": "mainColor",
       "font-family": "Source Sans Pro",
       "font-size": 6
      }
     },
     "ef9156a9-26d4-441a-baa4-0baab4e2c71d": {
      "backgrounds": {
       "dc7afa04-bf90-40b1-82a5-726e3cff5267": {
        "background-color": "31af15d2-7e15-44c5-ab5e-e04b16a89eff",
        "id": "dc7afa04-bf90-40b1-82a5-726e3cff5267"
       }
      },
      "id": "ef9156a9-26d4-441a-baa4-0baab4e2c71d",
      "palette": {
       "19cc588f-0593-49c9-9f4b-e4d7cc113b1c": {
        "id": "19cc588f-0593-49c9-9f4b-e4d7cc113b1c",
        "rgb": [
         252,
         252,
         252
        ]
       },
       "31af15d2-7e15-44c5-ab5e-e04b16a89eff": {
        "id": "31af15d2-7e15-44c5-ab5e-e04b16a89eff",
        "rgb": [
         68,
         68,
         68
        ]
       },
       "50f92c45-a630-455b-aec3-788680ec7410": {
        "id": "50f92c45-a630-455b-aec3-788680ec7410",
        "rgb": [
         197,
         226,
         245
        ]
       },
       "c5cc3653-2ee1-402a-aba2-7caae1da4f6c": {
        "id": "c5cc3653-2ee1-402a-aba2-7caae1da4f6c",
        "rgb": [
         43,
         126,
         184
        ]
       },
       "efa7f048-9acb-414c-8b04-a26811511a21": {
        "id": "efa7f048-9acb-414c-8b04-a26811511a21",
        "rgb": [
         25.118061674008803,
         73.60176211453744,
         107.4819383259912
        ]
       }
      },
      "rules": {
       "a": {
        "color": "19cc588f-0593-49c9-9f4b-e4d7cc113b1c"
       },
       "blockquote": {
        "color": "50f92c45-a630-455b-aec3-788680ec7410",
        "font-size": 3
       },
       "code": {
        "font-family": "Anonymous Pro"
       },
       "h1": {
        "color": "19cc588f-0593-49c9-9f4b-e4d7cc113b1c",
        "font-family": "Merriweather",
        "font-size": 8
       },
       "h2": {
        "color": "19cc588f-0593-49c9-9f4b-e4d7cc113b1c",
        "font-family": "Merriweather",
        "font-size": 6
       },
       "h3": {
        "color": "50f92c45-a630-455b-aec3-788680ec7410",
        "font-family": "Lato",
        "font-size": 5.5
       },
       "h4": {
        "color": "c5cc3653-2ee1-402a-aba2-7caae1da4f6c",
        "font-family": "Lato",
        "font-size": 5
       },
       "h5": {
        "font-family": "Lato"
       },
       "h6": {
        "font-family": "Lato"
       },
       "h7": {
        "font-family": "Lato"
       },
       "li": {
        "color": "50f92c45-a630-455b-aec3-788680ec7410",
        "font-size": 3.25
       },
       "pre": {
        "font-family": "Anonymous Pro",
        "font-size": 4
       }
      },
      "text-base": {
       "color": "19cc588f-0593-49c9-9f4b-e4d7cc113b1c",
       "font-family": "Lato",
       "font-size": 4
      }
     },
     "f701fbb4-6b93-4cda-81df-df9dd51e8d44": {
      "id": "f701fbb4-6b93-4cda-81df-df9dd51e8d44",
      "palette": {
       "19cc588f-0593-49c9-9f4b-e4d7cc113b1c": {
        "id": "19cc588f-0593-49c9-9f4b-e4d7cc113b1c",
        "rgb": [
         252,
         252,
         252
        ]
       },
       "31af15d2-7e15-44c5-ab5e-e04b16a89eff": {
        "id": "31af15d2-7e15-44c5-ab5e-e04b16a89eff",
        "rgb": [
         68,
         68,
         68
        ]
       },
       "50f92c45-a630-455b-aec3-788680ec7410": {
        "id": "50f92c45-a630-455b-aec3-788680ec7410",
        "rgb": [
         155,
         177,
         192
        ]
       },
       "c5cc3653-2ee1-402a-aba2-7caae1da4f6c": {
        "id": "c5cc3653-2ee1-402a-aba2-7caae1da4f6c",
        "rgb": [
         43,
         126,
         184
        ]
       },
       "efa7f048-9acb-414c-8b04-a26811511a21": {
        "id": "efa7f048-9acb-414c-8b04-a26811511a21",
        "rgb": [
         25.118061674008803,
         73.60176211453744,
         107.4819383259912
        ]
       }
      },
      "rules": {
       "blockquote": {
        "color": "50f92c45-a630-455b-aec3-788680ec7410"
       },
       "code": {
        "font-family": "Anonymous Pro"
       },
       "h1": {
        "color": "c5cc3653-2ee1-402a-aba2-7caae1da4f6c",
        "font-family": "Lato",
        "font-size": 8
       },
       "h2": {
        "color": "c5cc3653-2ee1-402a-aba2-7caae1da4f6c",
        "font-family": "Lato",
        "font-size": 6
       },
       "h3": {
        "color": "50f92c45-a630-455b-aec3-788680ec7410",
        "font-family": "Lato",
        "font-size": 5.5
       },
       "h4": {
        "color": "c5cc3653-2ee1-402a-aba2-7caae1da4f6c",
        "font-family": "Lato",
        "font-size": 5
       },
       "h5": {
        "font-family": "Lato"
       },
       "h6": {
        "font-family": "Lato"
       },
       "h7": {
        "font-family": "Lato"
       },
       "pre": {
        "font-family": "Anonymous Pro",
        "font-size": 4
       }
      },
      "text-base": {
       "font-family": "Merriweather",
       "font-size": 4
      }
     }
    }
   }
  }
 },
 "nbformat": 4,
 "nbformat_minor": 2
}
